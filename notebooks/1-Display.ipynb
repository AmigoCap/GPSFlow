{
 "cells": [
  {
   "cell_type": "markdown",
   "metadata": {},
   "source": [
    "<div class=\"clearfix\" style=\"padding: 10px; padding-left: 0px\">\n",
    "    <img src=\"http://corporate.renault-trucks.com/media/image/CP-jpg/logo_ecole_centrale_lyon.jpg\" width=\"450px\" style=\"display: inline-block; margin-top: 5px;\"/>\n",
    "    <br/>\n",
    "    <br/>\n",
    "    <h1 style=\"color:rgb(150,0,0)\">  Séance 1 : Parsing des données et premier affichage </h1>\n",
    "</div>"
   ]
  },
  {
   "cell_type": "markdown",
   "metadata": {},
   "source": [
    "<h1 style=\"color:rgb(150,0,0)\"> I. Présentation de la séance</h1>"
   ]
  },
  {
   "cell_type": "markdown",
   "metadata": {},
   "source": [
    "<h2 style=\"color:rgb(0,0,150)\"> A. Objectifs</h2>"
   ]
  },
  {
   "cell_type": "markdown",
   "metadata": {},
   "source": [
    "Cette séance sera consacrée au chargement des données de Google TakeOut et à une première visualisation.\n",
    "\n",
    "Nous nous sommes en particulier inspiré du repository GitHub \n",
    "[suivant](https://gist.github.com/chrisalbon/0a55b7b5ef6584e672cd)  \n",
    "\n",
    "Pour l'affichage des données sur une carte; nous ne visons pas une correspondance parfaite entre les points relevés et le fond de carte. Il s'agit plutôt de travailler sur une représentation qui nous permette de comprendre à quoi correspondent les différents points."
   ]
  },
  {
   "cell_type": "markdown",
   "metadata": {},
   "source": [
    "<h2 style=\"color:rgb(0,0,150)\"> B. Analyse technique</h2>\n",
    "<p>\n",
    "Les données Google TakeOut sont des fichiers JSON extremement long. Pour les exploiter, nous allons utiliser les objets <b> panda.dataFrame </b> .\n",
    "<br/> Pour commencer, nous allons travailler sur les données de géolocalisation s'étalant sur une année d'une personne de notre groupe.\n",
    "<br/>\n",
    "</p>"
   ]
  },
  {
   "cell_type": "markdown",
   "metadata": {},
   "source": [
    "<h1 style=\"color:rgb(150,0,0)\">  II. Code  </h1>"
   ]
  },
  {
   "cell_type": "markdown",
   "metadata": {},
   "source": [
    "<h2 style=\"color:rgb(0,0,150)\"> A. Extraction des données JSON</h2>"
   ]
  },
  {
   "cell_type": "code",
   "execution_count": 1,
   "metadata": {},
   "outputs": [],
   "source": [
    "import pandas as pd\n",
    "import matplotlib.pyplot as plt\n",
    "from mpl_toolkits.basemap import Basemap"
   ]
  },
  {
   "cell_type": "code",
   "execution_count": 2,
   "metadata": {},
   "outputs": [],
   "source": [
    "# Loading data\n",
    "file = \"data/anonymous_2015.json\"\n",
    "raw = pd.io.json.read_json(file)"
   ]
  },
  {
   "cell_type": "code",
   "execution_count": 3,
   "metadata": {},
   "outputs": [],
   "source": [
    "# Expand the locations column into a dataframe\n",
    "# This lets us move down one level in the json structure\n",
    "df = raw['locations'].apply(pd.Series)"
   ]
  },
  {
   "cell_type": "markdown",
   "metadata": {},
   "source": [
    "### Visulation des données extraites du fichiers json. "
   ]
  },
  {
   "cell_type": "code",
   "execution_count": 4,
   "metadata": {},
   "outputs": [
    {
     "data": {
      "text/html": [
       "<div>\n",
       "<style scoped>\n",
       "    .dataframe tbody tr th:only-of-type {\n",
       "        vertical-align: middle;\n",
       "    }\n",
       "\n",
       "    .dataframe tbody tr th {\n",
       "        vertical-align: top;\n",
       "    }\n",
       "\n",
       "    .dataframe thead th {\n",
       "        text-align: right;\n",
       "    }\n",
       "</style>\n",
       "<table border=\"1\" class=\"dataframe\">\n",
       "  <thead>\n",
       "    <tr style=\"text-align: right;\">\n",
       "      <th></th>\n",
       "      <th>accuracy</th>\n",
       "      <th>activity</th>\n",
       "      <th>altitude</th>\n",
       "      <th>heading</th>\n",
       "      <th>latitudeE7</th>\n",
       "      <th>longitudeE7</th>\n",
       "      <th>timestampMs</th>\n",
       "      <th>velocity</th>\n",
       "    </tr>\n",
       "  </thead>\n",
       "  <tbody>\n",
       "    <tr>\n",
       "      <th>0</th>\n",
       "      <td>103</td>\n",
       "      <td>NaN</td>\n",
       "      <td>NaN</td>\n",
       "      <td>NaN</td>\n",
       "      <td>377611139</td>\n",
       "      <td>-1224707537</td>\n",
       "      <td>1468723321167</td>\n",
       "      <td>NaN</td>\n",
       "    </tr>\n",
       "    <tr>\n",
       "      <th>1</th>\n",
       "      <td>12</td>\n",
       "      <td>NaN</td>\n",
       "      <td>36.0</td>\n",
       "      <td>NaN</td>\n",
       "      <td>377611139</td>\n",
       "      <td>-1224707537</td>\n",
       "      <td>1468723302999</td>\n",
       "      <td>0.0</td>\n",
       "    </tr>\n",
       "    <tr>\n",
       "      <th>2</th>\n",
       "      <td>12</td>\n",
       "      <td>NaN</td>\n",
       "      <td>49.0</td>\n",
       "      <td>NaN</td>\n",
       "      <td>377611139</td>\n",
       "      <td>-1224707537</td>\n",
       "      <td>1468723287999</td>\n",
       "      <td>0.0</td>\n",
       "    </tr>\n",
       "    <tr>\n",
       "      <th>3</th>\n",
       "      <td>20</td>\n",
       "      <td>[{'timestampMs': '1468723265584', 'activity': ...</td>\n",
       "      <td>NaN</td>\n",
       "      <td>NaN</td>\n",
       "      <td>377610871</td>\n",
       "      <td>-1224706561</td>\n",
       "      <td>1468723272489</td>\n",
       "      <td>NaN</td>\n",
       "    </tr>\n",
       "    <tr>\n",
       "      <th>4</th>\n",
       "      <td>12</td>\n",
       "      <td>NaN</td>\n",
       "      <td>16.0</td>\n",
       "      <td>NaN</td>\n",
       "      <td>377613962</td>\n",
       "      <td>-1224707777</td>\n",
       "      <td>1468723251000</td>\n",
       "      <td>0.0</td>\n",
       "    </tr>\n",
       "  </tbody>\n",
       "</table>\n",
       "</div>"
      ],
      "text/plain": [
       "   accuracy                                           activity  altitude  \\\n",
       "0       103                                                NaN       NaN   \n",
       "1        12                                                NaN      36.0   \n",
       "2        12                                                NaN      49.0   \n",
       "3        20  [{'timestampMs': '1468723265584', 'activity': ...       NaN   \n",
       "4        12                                                NaN      16.0   \n",
       "\n",
       "   heading  latitudeE7  longitudeE7    timestampMs  velocity  \n",
       "0      NaN   377611139  -1224707537  1468723321167       NaN  \n",
       "1      NaN   377611139  -1224707537  1468723302999       0.0  \n",
       "2      NaN   377611139  -1224707537  1468723287999       0.0  \n",
       "3      NaN   377610871  -1224706561  1468723272489       NaN  \n",
       "4      NaN   377613962  -1224707777  1468723251000       0.0  "
      ]
     },
     "execution_count": 4,
     "metadata": {},
     "output_type": "execute_result"
    }
   ],
   "source": [
    "df.head()"
   ]
  },
  {
   "cell_type": "markdown",
   "metadata": {},
   "source": [
    "### Transformation des lattitudes et longitudes au format standart"
   ]
  },
  {
   "cell_type": "code",
   "execution_count": 5,
   "metadata": {},
   "outputs": [],
   "source": [
    "# Create a list from the latitude and the longitude column, multiplied by -E7\n",
    "df['latitude'] = df['latitudeE7'] * 0.0000001\n",
    "df['longitude'] = df['longitudeE7'] * 0.0000001"
   ]
  },
  {
   "cell_type": "markdown",
   "metadata": {},
   "source": [
    "## B. Premier affichage sur une carte"
   ]
  },
  {
   "cell_type": "markdown",
   "metadata": {},
   "source": [
    "On affiche dans un premier temps les données sur la France entière, pour cela il faut précsier les latitudes extrèmes du plan sur lequel on souhaite se placer."
   ]
  },
  {
   "cell_type": "code",
   "execution_count": 6,
   "metadata": {},
   "outputs": [],
   "source": [
    " map = Basemap(projection='merc', lat_0=0, lon_0=0,\n",
    "    resolution = 'l', area_thresh = 1000.0,\n",
    "    llcrnrlon=-5, llcrnrlat=42,\n",
    "    urcrnrlon=9, urcrnrlat=51)"
   ]
  },
  {
   "cell_type": "code",
   "execution_count": 7,
   "metadata": {},
   "outputs": [],
   "source": [
    "x,y = map(df['longitude'].values, df['latitude'].values)"
   ]
  },
  {
   "cell_type": "code",
   "execution_count": 8,
   "metadata": {
    "scrolled": false
   },
   "outputs": [
    {
     "data": {
      "image/png": "[encoded data removed]",
      "text/plain": [
       "<Figure size 1440x720 with 1 Axes>"
      ]
     },
     "metadata": {},
     "output_type": "display_data"
    }
   ],
   "source": [
    "plt.figure(figsize=(20, 10))\n",
    "map.drawcountries()\n",
    "map.drawcoastlines()\n",
    "map.plot(x, y, 'ro', markersize=3)\n",
    "plt.show()"
   ]
  },
  {
   "cell_type": "markdown",
   "metadata": {},
   "source": [
    "### Visualisation des données sur la ville de Lyon"
   ]
  },
  {
   "cell_type": "code",
   "execution_count": 9,
   "metadata": {},
   "outputs": [],
   "source": [
    "lyon_map = Basemap(projection='merc', lat_0=45.759032, lon_0=4.833987,\n",
    "    resolution = 'h', area_thresh = 1000.0,\n",
    "    llcrnrlon=3.731840, llcrnrlat=44.847501,\n",
    "    urcrnrlon=6.373109, urcrnrlat=47.128597)"
   ]
  },
  {
   "cell_type": "code",
   "execution_count": 10,
   "metadata": {},
   "outputs": [],
   "source": [
    "x,y = lyon_map(df['longitude'].values, df['latitude'].values)"
   ]
  },
  {
   "cell_type": "code",
   "execution_count": 11,
   "metadata": {},
   "outputs": [
    {
     "data": {
      "image/png": "[encoded data removed]",
      "text/plain": [
       "<Figure size 1440x720 with 1 Axes>"
      ]
     },
     "metadata": {},
     "output_type": "display_data"
    }
   ],
   "source": [
    "plt.figure(figsize=(20,10))\n",
    "lyon_map.plot(x, y, 'ro', markersize=3)\n",
    "plt.show()"
   ]
  },
  {
   "cell_type": "markdown",
   "metadata": {},
   "source": [
    "<h1 style=\"color:rgb(150,0,0)\">  III. Conclusion</h1>"
   ]
  },
  {
   "cell_type": "markdown",
   "metadata": {},
   "source": [
    "<h2 style=\"color:rgb(0,0,150)\"> A. Bilan</h2>\n",
    "<p>\n",
    "Cette séance, nous sommes parvenus à nos objectifs. Toutefois nous notons que le fond de carte que nous utilisons n'est pas très adapté. Il ne représente que les frontières des pays; il n'est donc d'aucune aide pour représenter les trajets au sein d'une ville. \n",
    "</p>"
   ]
  },
  {
   "cell_type": "markdown",
   "metadata": {},
   "source": [
    "<h2 style=\"color:rgb(0,0,150)\"> B. Travail à faire de la prochaine séance </h2>\n",
    "<p>\n",
    "<br/>\n",
    "Lors de la prochaine séance, nous travaillerons sur :\n",
    "<ul> \n",
    "    <li> Enlever les fonctions 'depricated' </li> \n",
    "    <li> Re-travailler sur le fond de carte </li> \n",
    "    <li> Organiser nos données pour pouvoir y accéder jour par jour </li>\n",
    "    <li> Tracer de premiers trajets, ie relier les points de façon cohérente </li>\n",
    "    <li> Commencer à travailler sur le nettoyage des trajets </li>\n",
    "</ul> \n",
    "</p>"
   ]
  }
 ],
 "metadata": {
  "kernelspec": {
   "display_name": "Python 3",
   "language": "python",
   "name": "python3"
  },
  "language_info": {
   "codemirror_mode": {
    "name": "ipython",
    "version": 3
   },
   "file_extension": ".py",
   "mimetype": "text/x-python",
   "name": "python",
   "nbconvert_exporter": "python",
   "pygments_lexer": "ipython3",
   "version": "3.6.4"
  }
 },
 "nbformat": 4,
 "nbformat_minor": 2
}

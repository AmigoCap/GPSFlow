{
 "cells": [
  {
   "cell_type": "markdown",
   "metadata": {},
   "source": [
    "## Followmee"
   ]
  },
  {
   "cell_type": "code",
   "execution_count": 1,
   "metadata": {
    "collapsed": true
   },
   "outputs": [],
   "source": [
    "import pandas as pd\n",
    "%matplotlib inline"
   ]
  },
  {
   "cell_type": "code",
   "execution_count": 2,
   "metadata": {
    "collapsed": true
   },
   "outputs": [],
   "source": [
    "# Loading data\n",
    "file = \"followmee/report-1809.csv\"\n",
    "df = pd.read_csv(file, sep=',', header=0)"
   ]
  },
  {
   "cell_type": "code",
   "execution_count": 3,
   "metadata": {},
   "outputs": [
    {
     "data": {
      "text/html": [
       "<div>\n",
       "<table border=\"1\" class=\"dataframe\">\n",
       "  <thead>\n",
       "    <tr style=\"text-align: right;\">\n",
       "      <th></th>\n",
       "      <th>Name</th>\n",
       "      <th>Date</th>\n",
       "      <th>Lat</th>\n",
       "      <th>Lng</th>\n",
       "      <th>Speed(mph)</th>\n",
       "      <th>Speed(km/h)</th>\n",
       "      <th>Altitude(ft)</th>\n",
       "      <th>Altitude(m)</th>\n",
       "      <th>Accuracy</th>\n",
       "      <th>Type</th>\n",
       "      <th>Distance(mile)</th>\n",
       "      <th>Distance(km)</th>\n",
       "      <th>Date2</th>\n",
       "      <th>Address</th>\n",
       "    </tr>\n",
       "  </thead>\n",
       "  <tbody>\n",
       "    <tr>\n",
       "      <th>0</th>\n",
       "      <td>Romain’s iPhone</td>\n",
       "      <td>2017-09-17 11:19:08 AM</td>\n",
       "      <td>45.77391</td>\n",
       "      <td>4.82669</td>\n",
       "      <td>0</td>\n",
       "      <td>0</td>\n",
       "      <td>839</td>\n",
       "      <td>256</td>\n",
       "      <td>25</td>\n",
       "      <td>GPS</td>\n",
       "      <td>0.04</td>\n",
       "      <td>0.07</td>\n",
       "      <td>2017-09-17 11:19:08+02:00</td>\n",
       "      <td>A1N4N2, Tunnel de la Croix-Rousse, Clos-Jouve,...</td>\n",
       "    </tr>\n",
       "    <tr>\n",
       "      <th>1</th>\n",
       "      <td>Romain’s iPhone</td>\n",
       "      <td>2017-09-17 11:21:29 AM</td>\n",
       "      <td>45.77416</td>\n",
       "      <td>4.82740</td>\n",
       "      <td>1</td>\n",
       "      <td>2</td>\n",
       "      <td>741</td>\n",
       "      <td>226</td>\n",
       "      <td>30</td>\n",
       "      <td>GPS</td>\n",
       "      <td>0.04</td>\n",
       "      <td>0.07</td>\n",
       "      <td>2017-09-17 11:21:29+02:00</td>\n",
       "      <td>Mairie du 4e arrondissement, Boulevard de la C...</td>\n",
       "    </tr>\n",
       "    <tr>\n",
       "      <th>2</th>\n",
       "      <td>Romain’s iPhone</td>\n",
       "      <td>2017-09-17 11:23:58 AM</td>\n",
       "      <td>45.77419</td>\n",
       "      <td>4.82811</td>\n",
       "      <td>0</td>\n",
       "      <td>0</td>\n",
       "      <td>862</td>\n",
       "      <td>263</td>\n",
       "      <td>25</td>\n",
       "      <td>GPS</td>\n",
       "      <td>0.04</td>\n",
       "      <td>0.06</td>\n",
       "      <td>2017-09-17 11:23:58+02:00</td>\n",
       "      <td>Mairie du 4e arrondissement, Boulevard de la C...</td>\n",
       "    </tr>\n",
       "    <tr>\n",
       "      <th>3</th>\n",
       "      <td>Romain’s iPhone</td>\n",
       "      <td>2017-09-17 11:26:20 AM</td>\n",
       "      <td>45.77431</td>\n",
       "      <td>4.82878</td>\n",
       "      <td>0</td>\n",
       "      <td>0</td>\n",
       "      <td>915</td>\n",
       "      <td>279</td>\n",
       "      <td>10</td>\n",
       "      <td>GPS</td>\n",
       "      <td>0.04</td>\n",
       "      <td>0.06</td>\n",
       "      <td>2017-09-17 11:26:20+02:00</td>\n",
       "      <td>A1N4N2, Tunnel de la Croix-Rousse, Clos-Jouve,...</td>\n",
       "    </tr>\n",
       "    <tr>\n",
       "      <th>4</th>\n",
       "      <td>Romain’s iPhone</td>\n",
       "      <td>2017-09-17 11:31:59 AM</td>\n",
       "      <td>45.77437</td>\n",
       "      <td>4.82985</td>\n",
       "      <td>1</td>\n",
       "      <td>2</td>\n",
       "      <td>823</td>\n",
       "      <td>251</td>\n",
       "      <td>30</td>\n",
       "      <td>GPS</td>\n",
       "      <td>0.06</td>\n",
       "      <td>0.09</td>\n",
       "      <td>2017-09-17 11:31:59+02:00</td>\n",
       "      <td>A1N4N2, Tunnel de la Croix-Rousse, Clos-Jouve,...</td>\n",
       "    </tr>\n",
       "    <tr>\n",
       "      <th>5</th>\n",
       "      <td>Romain’s iPhone</td>\n",
       "      <td>2017-09-17 11:34:25 AM</td>\n",
       "      <td>45.77439</td>\n",
       "      <td>4.83102</td>\n",
       "      <td>1</td>\n",
       "      <td>2</td>\n",
       "      <td>1006</td>\n",
       "      <td>307</td>\n",
       "      <td>100</td>\n",
       "      <td>GPS</td>\n",
       "      <td>0.06</td>\n",
       "      <td>0.10</td>\n",
       "      <td>2017-09-17 11:34:25+02:00</td>\n",
       "      <td>A1N4N2, Tunnel de la Croix-Rousse, Clos-Jouve,...</td>\n",
       "    </tr>\n",
       "    <tr>\n",
       "      <th>6</th>\n",
       "      <td>Romain’s iPhone</td>\n",
       "      <td>2017-09-17 11:36:50 AM</td>\n",
       "      <td>45.77481</td>\n",
       "      <td>4.83174</td>\n",
       "      <td>2</td>\n",
       "      <td>3</td>\n",
       "      <td>882</td>\n",
       "      <td>269</td>\n",
       "      <td>10</td>\n",
       "      <td>GPS</td>\n",
       "      <td>0.05</td>\n",
       "      <td>0.08</td>\n",
       "      <td>2017-09-17 11:36:50+02:00</td>\n",
       "      <td>27, Place de la Croix-Rousse, La Croix-Rousse,...</td>\n",
       "    </tr>\n",
       "    <tr>\n",
       "      <th>7</th>\n",
       "      <td>Romain’s iPhone</td>\n",
       "      <td>2017-09-17 11:37:57 AM</td>\n",
       "      <td>45.77469</td>\n",
       "      <td>4.83198</td>\n",
       "      <td>0</td>\n",
       "      <td>0</td>\n",
       "      <td>915</td>\n",
       "      <td>279</td>\n",
       "      <td>10</td>\n",
       "      <td>GPS</td>\n",
       "      <td>0.02</td>\n",
       "      <td>0.03</td>\n",
       "      <td>2017-09-17 11:37:57+02:00</td>\n",
       "      <td>27, Place de la Croix-Rousse, La Croix-Rousse,...</td>\n",
       "    </tr>\n",
       "    <tr>\n",
       "      <th>8</th>\n",
       "      <td>Romain’s iPhone</td>\n",
       "      <td>2017-09-17 11:42:37 AM</td>\n",
       "      <td>45.77560</td>\n",
       "      <td>4.83235</td>\n",
       "      <td>2</td>\n",
       "      <td>3</td>\n",
       "      <td>711</td>\n",
       "      <td>217</td>\n",
       "      <td>30</td>\n",
       "      <td>GPS</td>\n",
       "      <td>0.07</td>\n",
       "      <td>0.11</td>\n",
       "      <td>2017-09-17 11:42:37+02:00</td>\n",
       "      <td>27, Place de la Croix-Rousse, La Croix-Rousse,...</td>\n",
       "    </tr>\n",
       "    <tr>\n",
       "      <th>9</th>\n",
       "      <td>Romain’s iPhone</td>\n",
       "      <td>2017-09-17 11:45:04 AM</td>\n",
       "      <td>45.77656</td>\n",
       "      <td>4.83219</td>\n",
       "      <td>2</td>\n",
       "      <td>3</td>\n",
       "      <td>859</td>\n",
       "      <td>262</td>\n",
       "      <td>50</td>\n",
       "      <td>GPS</td>\n",
       "      <td>0.07</td>\n",
       "      <td>0.11</td>\n",
       "      <td>2017-09-17 11:45:04+02:00</td>\n",
       "      <td>2, Rue Dumont, La Croix-Rousse, Lyon 4e Arrond...</td>\n",
       "    </tr>\n",
       "    <tr>\n",
       "      <th>10</th>\n",
       "      <td>Romain’s iPhone</td>\n",
       "      <td>2017-09-17 11:47:17 AM</td>\n",
       "      <td>45.77750</td>\n",
       "      <td>4.83218</td>\n",
       "      <td>1</td>\n",
       "      <td>2</td>\n",
       "      <td>829</td>\n",
       "      <td>253</td>\n",
       "      <td>10</td>\n",
       "      <td>GPS</td>\n",
       "      <td>0.07</td>\n",
       "      <td>0.11</td>\n",
       "      <td>2017-09-17 11:47:17+02:00</td>\n",
       "      <td>27, Grande Rue de la Croix-Rousse, La Croix-Ro...</td>\n",
       "    </tr>\n",
       "    <tr>\n",
       "      <th>11</th>\n",
       "      <td>Romain’s iPhone</td>\n",
       "      <td>2017-09-17 11:48:39 AM</td>\n",
       "      <td>45.77803</td>\n",
       "      <td>4.83209</td>\n",
       "      <td>2</td>\n",
       "      <td>3</td>\n",
       "      <td>718</td>\n",
       "      <td>219</td>\n",
       "      <td>25</td>\n",
       "      <td>GPS</td>\n",
       "      <td>0.04</td>\n",
       "      <td>0.06</td>\n",
       "      <td>2017-09-17 11:48:39+02:00</td>\n",
       "      <td>35, Grande Rue de la Croix-Rousse, La Croix-Ro...</td>\n",
       "    </tr>\n",
       "    <tr>\n",
       "      <th>12</th>\n",
       "      <td>Romain’s iPhone</td>\n",
       "      <td>2017-09-17 11:49:56 AM</td>\n",
       "      <td>45.77839</td>\n",
       "      <td>4.83142</td>\n",
       "      <td>3</td>\n",
       "      <td>5</td>\n",
       "      <td>823</td>\n",
       "      <td>251</td>\n",
       "      <td>10</td>\n",
       "      <td>GPS</td>\n",
       "      <td>0.05</td>\n",
       "      <td>0.07</td>\n",
       "      <td>2017-09-17 11:49:56+02:00</td>\n",
       "      <td>3, Rue Rosset, La Croix-Rousse, Lyon 4e Arrond...</td>\n",
       "    </tr>\n",
       "  </tbody>\n",
       "</table>\n",
       "</div>"
      ],
      "text/plain": [
       "               Name                    Date       Lat      Lng  Speed(mph)  \\\n",
       "0   Romain’s iPhone  2017-09-17 11:19:08 AM  45.77391  4.82669           0   \n",
       "1   Romain’s iPhone  2017-09-17 11:21:29 AM  45.77416  4.82740           1   \n",
       "2   Romain’s iPhone  2017-09-17 11:23:58 AM  45.77419  4.82811           0   \n",
       "3   Romain’s iPhone  2017-09-17 11:26:20 AM  45.77431  4.82878           0   \n",
       "4   Romain’s iPhone  2017-09-17 11:31:59 AM  45.77437  4.82985           1   \n",
       "5   Romain’s iPhone  2017-09-17 11:34:25 AM  45.77439  4.83102           1   \n",
       "6   Romain’s iPhone  2017-09-17 11:36:50 AM  45.77481  4.83174           2   \n",
       "7   Romain’s iPhone  2017-09-17 11:37:57 AM  45.77469  4.83198           0   \n",
       "8   Romain’s iPhone  2017-09-17 11:42:37 AM  45.77560  4.83235           2   \n",
       "9   Romain’s iPhone  2017-09-17 11:45:04 AM  45.77656  4.83219           2   \n",
       "10  Romain’s iPhone  2017-09-17 11:47:17 AM  45.77750  4.83218           1   \n",
       "11  Romain’s iPhone  2017-09-17 11:48:39 AM  45.77803  4.83209           2   \n",
       "12  Romain’s iPhone  2017-09-17 11:49:56 AM  45.77839  4.83142           3   \n",
       "\n",
       "    Speed(km/h)  Altitude(ft)  Altitude(m)  Accuracy Type  Distance(mile)  \\\n",
       "0             0           839          256        25  GPS            0.04   \n",
       "1             2           741          226        30  GPS            0.04   \n",
       "2             0           862          263        25  GPS            0.04   \n",
       "3             0           915          279        10  GPS            0.04   \n",
       "4             2           823          251        30  GPS            0.06   \n",
       "5             2          1006          307       100  GPS            0.06   \n",
       "6             3           882          269        10  GPS            0.05   \n",
       "7             0           915          279        10  GPS            0.02   \n",
       "8             3           711          217        30  GPS            0.07   \n",
       "9             3           859          262        50  GPS            0.07   \n",
       "10            2           829          253        10  GPS            0.07   \n",
       "11            3           718          219        25  GPS            0.04   \n",
       "12            5           823          251        10  GPS            0.05   \n",
       "\n",
       "    Distance(km)                      Date2  \\\n",
       "0           0.07  2017-09-17 11:19:08+02:00   \n",
       "1           0.07  2017-09-17 11:21:29+02:00   \n",
       "2           0.06  2017-09-17 11:23:58+02:00   \n",
       "3           0.06  2017-09-17 11:26:20+02:00   \n",
       "4           0.09  2017-09-17 11:31:59+02:00   \n",
       "5           0.10  2017-09-17 11:34:25+02:00   \n",
       "6           0.08  2017-09-17 11:36:50+02:00   \n",
       "7           0.03  2017-09-17 11:37:57+02:00   \n",
       "8           0.11  2017-09-17 11:42:37+02:00   \n",
       "9           0.11  2017-09-17 11:45:04+02:00   \n",
       "10          0.11  2017-09-17 11:47:17+02:00   \n",
       "11          0.06  2017-09-17 11:48:39+02:00   \n",
       "12          0.07  2017-09-17 11:49:56+02:00   \n",
       "\n",
       "                                              Address  \n",
       "0   A1N4N2, Tunnel de la Croix-Rousse, Clos-Jouve,...  \n",
       "1   Mairie du 4e arrondissement, Boulevard de la C...  \n",
       "2   Mairie du 4e arrondissement, Boulevard de la C...  \n",
       "3   A1N4N2, Tunnel de la Croix-Rousse, Clos-Jouve,...  \n",
       "4   A1N4N2, Tunnel de la Croix-Rousse, Clos-Jouve,...  \n",
       "5   A1N4N2, Tunnel de la Croix-Rousse, Clos-Jouve,...  \n",
       "6   27, Place de la Croix-Rousse, La Croix-Rousse,...  \n",
       "7   27, Place de la Croix-Rousse, La Croix-Rousse,...  \n",
       "8   27, Place de la Croix-Rousse, La Croix-Rousse,...  \n",
       "9   2, Rue Dumont, La Croix-Rousse, Lyon 4e Arrond...  \n",
       "10  27, Grande Rue de la Croix-Rousse, La Croix-Ro...  \n",
       "11  35, Grande Rue de la Croix-Rousse, La Croix-Ro...  \n",
       "12  3, Rue Rosset, La Croix-Rousse, Lyon 4e Arrond...  "
      ]
     },
     "execution_count": 3,
     "metadata": {},
     "output_type": "execute_result"
    }
   ],
   "source": [
    "df"
   ]
  },
  {
   "cell_type": "code",
   "execution_count": 4,
   "metadata": {},
   "outputs": [
    {
     "data": {
      "text/plain": [
       "Index(['Name', 'Date', 'Lat', 'Lng', 'Speed(mph)', 'Speed(km/h)',\n",
       "       'Altitude(ft)', 'Altitude(m)', 'Accuracy', 'Type', 'Distance(mile)',\n",
       "       'Distance(km)', 'Date2', 'Address'],\n",
       "      dtype='object')"
      ]
     },
     "execution_count": 4,
     "metadata": {},
     "output_type": "execute_result"
    }
   ],
   "source": [
    "df.columns"
   ]
  },
  {
   "cell_type": "code",
   "execution_count": 5,
   "metadata": {},
   "outputs": [
    {
     "data": {
      "text/plain": [
       "<matplotlib.axes._subplots.AxesSubplot at 0x11479a860>"
      ]
     },
     "execution_count": 5,
     "metadata": {},
     "output_type": "execute_result"
    },
    {
     "data": {
      "image/png": "[encoded data removed]",
      "text/plain": [
       "<matplotlib.figure.Figure at 0x11479d550>"
      ]
     },
     "metadata": {},
     "output_type": "display_data"
    }
   ],
   "source": [
    "df.reset_index().plot.line(df[\"Speed(km/h)\"].cumsum(), 'index', drawstyle='line')"
   ]
  },
  {
   "cell_type": "code",
   "execution_count": 6,
   "metadata": {},
   "outputs": [
    {
     "data": {
      "text/plain": [
       "<matplotlib.axes._subplots.AxesSubplot at 0x1147f0550>"
      ]
     },
     "execution_count": 6,
     "metadata": {},
     "output_type": "execute_result"
    },
    {
     "data": {
      "image/png": "[encoded data removed]",
      "text/plain": [
       "<matplotlib.figure.Figure at 0x114806080>"
      ]
     },
     "metadata": {},
     "output_type": "display_data"
    }
   ],
   "source": [
    "# https://stackoverflow.com/questions/37293014/draw-a-cumulative-chart-from-a-pandas-dataframe\n",
    "df.reset_index().plot.line(\"Lat\", \"Lng\", drawstyle='line')"
   ]
  },
  {
   "cell_type": "code",
   "execution_count": null,
   "metadata": {
    "collapsed": true
   },
   "outputs": [],
   "source": []
  },
  {
   "cell_type": "code",
   "execution_count": null,
   "metadata": {
    "collapsed": true
   },
   "outputs": [],
   "source": []
  },
  {
   "cell_type": "code",
   "execution_count": null,
   "metadata": {
    "collapsed": true
   },
   "outputs": [],
   "source": []
  }
 ],
 "metadata": {
  "kernelspec": {
   "display_name": "IPython (Python 3)",
   "language": "python",
   "name": "python3"
  },
  "language_info": {
   "codemirror_mode": {
    "name": "ipython",
    "version": 3
   },
   "file_extension": ".py",
   "mimetype": "text/x-python",
   "name": "python",
   "nbconvert_exporter": "python",
   "pygments_lexer": "ipython3",
   "version": "3.5.1"
  }
 },
 "nbformat": 4,
 "nbformat_minor": 2
}

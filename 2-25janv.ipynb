{
 "cells": [
  {
   "cell_type": "markdown",
   "metadata": {},
   "source": [
    "\n",
    "<div class=\"clearfix\" style=\"padding: 10px; padding-left: 0px\">\n",
    "<img src=\"http://corporate.renault-trucks.com/media/image/CP-jpg/logo_ecole_centrale_lyon.jpg\" width=\"450px\" style=\"display: inline-block; margin-top: 5px;\">\n",
    "<br>\n",
    "<br>\n",
    "<br>\n",
    "<h1 style=\"color:rgb(150,0,0)\">  Séance 2 : Meilleur Affichage et Premiers Nettoyages </h1>\n",
    "</div>\n",
    "\n",
    "\n"
   ]
  },
  {
   "cell_type": "markdown",
   "metadata": {},
   "source": [
    "<h1 style=\"color:rgb(150,0,0)\">  I. Présentation de la séance  </h1>\n"
   ]
  },
  {
   "cell_type": "markdown",
   "metadata": {},
   "source": [
    "<div >\n",
    "\n",
    "<h2 style=\"color:rgb(0,0,150)\"> A. Objectifs </h2>\n",
    "\n",
    "<br>\n",
    "Les objectifs définis à la dernière séance étaient :\n",
    "<ul> \n",
    "    <li> Enlever les fonctions 'depricated' </li> \n",
    "    <li> Re-travailler sur le fond de carte </li> \n",
    "    <li> Organiser nos données pour pouvoir y accéder jour par jour </li>\n",
    "    <li> Tracer de premiers trajets, ie relier les points de façon cohérente </li>\n",
    "    <li> Commencer à travailler sur le nettoyage des trajets </li>\n",
    "</ul> \n",
    "\n",
    "<br> \n",
    "Cette séance nous avons décidé de travailler sur :\n",
    "\n"
   ]
  },
  {
   "cell_type": "markdown",
   "metadata": {},
   "source": [
    "<div >\n",
    "\n",
    "<h2 style=\"color:rgb(0,0,150)\"> B. Analyse technique</h2>\n",
    "\n",
    "<p>\n",
    "Les données Google TakeOut sont des fichiers JSON extremement long. Pour les exploiter, nous allons utiliser les objets <b> panda.dataFrame </b> .\n",
    "<br> Pour commencer, nous allons travailler sur les données de géolocalisation s'étalant sur une année d'une personne de notre groupe.\n",
    "<br>"
   ]
  },
  {
   "cell_type": "markdown",
   "metadata": {},
   "source": [
    "<h1 style=\"color:rgb(150,0,0)\">  II. Code  </h1>\n"
   ]
  },
  {
   "cell_type": "code",
   "execution_count": null,
   "metadata": {},
   "outputs": [],
   "source": []
  },
  {
   "cell_type": "code",
   "execution_count": null,
   "metadata": {},
   "outputs": [],
   "source": []
  },
  {
   "cell_type": "code",
   "execution_count": null,
   "metadata": {},
   "outputs": [],
   "source": []
  },
  {
   "cell_type": "code",
   "execution_count": null,
   "metadata": {},
   "outputs": [],
   "source": []
  },
  {
   "cell_type": "markdown",
   "metadata": {},
   "source": [
    "<h1 style=\"color:rgb(150,0,0)\">  III. Conclusion</h1>\n"
   ]
  },
  {
   "cell_type": "markdown",
   "metadata": {},
   "source": [
    "<h2 style=\"color:rgb(0,0,150)\"> A. Bilan</h2>\n"
   ]
  },
  {
   "cell_type": "markdown",
   "metadata": {},
   "source": [
    "<h2 style=\"color:rgb(0,0,150)\"> B. Travail à faire de la prochaine séance </h2>\n"
   ]
  }
 ],
 "metadata": {
  "kernelspec": {
   "display_name": "Python 3",
   "language": "python",
   "name": "python3"
  },
  "language_info": {
   "codemirror_mode": {
    "name": "ipython",
    "version": 3
   },
   "file_extension": ".py",
   "mimetype": "text/x-python",
   "name": "python",
   "nbconvert_exporter": "python",
   "pygments_lexer": "ipython3",
   "version": "3.5.2"
  }
 },
 "nbformat": 4,
 "nbformat_minor": 2
}

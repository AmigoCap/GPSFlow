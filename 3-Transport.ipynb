{
 "cells": [
  {
   "cell_type": "markdown",
   "metadata": {},
   "source": [
    "\n",
    "<div class=\"clearfix\" style=\"padding: 10px; padding-left: 0px\">\n",
    "<img src=\"http://corporate.renault-trucks.com/media/image/CP-jpg/logo_ecole_centrale_lyon.jpg\" width=\"450px\" style=\"display: inline-block; margin-top: 5px;\">\n",
    "<br>\n",
    "<br>\n",
    "<br>\n",
    "<h1 style=\"color:rgb(150,0,0);text-align:center\">  Séance 3 : </h1>\n",
    "<h1 style=\"color:rgb(150,0,0);text-align:center\"> 3 Février </h1>\n",
    "</div>\n",
    "\n",
    "\n"
   ]
  },
  {
   "cell_type": "markdown",
   "metadata": {},
   "source": [
    "<h1 style=\"color:rgb(150,0,0)\">  I. Présentation de la séance  </h1>\n"
   ]
  },
  {
   "cell_type": "markdown",
   "metadata": {},
   "source": [
    "<h2 style=\"color:rgb(0,0,150)\"> A. Objectifs "
   ]
  },
  {
   "cell_type": "markdown",
   "metadata": {},
   "source": [
    "Les objectifs définis à la dernière séance étaient :\n",
    "\n",
    "- essayer de commencer à identifier des modes  de transport grâce aux vitesses\n",
    "- calculer l'angle de la direction pour détecter les centres d'interets\n",
    "- changer de jeux de données pour voir si c'est mieux \n",
    "- travailler sur une approche vitesse pour reconnaitre les points aberrants\n",
    "\n",
    "Cette séance nous avons décidé de travailler sur :\n",
    "- sélection d'un certain nombre de trajectoires\n",
    "- début de travail sur la segmentation (fondé sur la vitesse) \n",
    "- evaluation de différents filtres\n",
    " \n",
    "\n"
   ]
  },
  {
   "cell_type": "markdown",
   "metadata": {},
   "source": [
    "<h2 style=\"color:rgb(0,0,150)\"> B. Analyse technique\n"
   ]
  },
  {
   "cell_type": "markdown",
   "metadata": {},
   "source": [
    "Discussion nettoyage : \n",
    "\n",
    "On distingue le mean de l'average. En revanche, le mean modifie les données alors que l'average prend des données qui existent vraiment.\n",
    "Faut faire attention parce que par défaut on remplace tous les points. Ce qu'on veut faire c'est reconnaitre les points aberratns (distance trop grande par rapport aux points précédents) et de les enlever.\n",
    "On aura donc d'un coté les points 'biens' filtrés et de l'autre les points aberrants enlevés."
   ]
  },
  {
   "cell_type": "markdown",
   "metadata": {},
   "source": [
    "Pour évaluer la qualité des filtres, on peut faire des parcours vraiment déterminé dans Lyon pour évaluer la qualité du débruitage."
   ]
  },
  {
   "cell_type": "markdown",
   "metadata": {},
   "source": [
    "Une autre méthode pour filtrer c'est heuristics based outlier detection. C'est fondé sur un certain nombre de seuils : la vitesse, l'accélération."
   ]
  },
  {
   "cell_type": "markdown",
   "metadata": {},
   "source": [
    "Kalman et particules :\n",
    "Mélange d'approches baynesienne pour deviner là où devraient où les points fondés sur"
   ]
  },
  {
   "cell_type": "markdown",
   "metadata": {},
   "source": [
    "### Segmentation "
   ]
  },
  {
   "cell_type": "markdown",
   "metadata": {},
   "source": [
    "1 : faire un seuillage sur le TimeSpan "
   ]
  },
  {
   "cell_type": "markdown",
   "metadata": {},
   "source": [
    "Algo de :\n",
    "On regarde la distance ortho entre chaque point et le vol d'oiseau entre les 2 points extremes de la trajectoire. \n",
    "Si la distance est trop grande, c'est qu'on peut pas expliquer la trajectoire par une seulement une ligne droite. "
   ]
  },
  {
   "cell_type": "markdown",
   "metadata": {},
   "source": [
    "Pour faire la vitesse, on peut commencer par distinguer la marche de la non marche."
   ]
  },
  {
   "cell_type": "markdown",
   "metadata": {},
   "source": [
    "Enfin, on peut s'appuyer sur des points d'interets."
   ]
  },
  {
   "cell_type": "markdown",
   "metadata": {},
   "source": [
    "<h1 style=\"color:rgb(150,0,0)\">  II. Code  </h1>\n"
   ]
  },
  {
   "cell_type": "markdown",
   "metadata": {},
   "source": [
    "### Imports"
   ]
  },
  {
   "cell_type": "code",
   "execution_count": null,
   "metadata": {
    "collapsed": true
   },
   "outputs": [],
   "source": [
    "import gmplot\n",
    "import data_parser as parser\n",
    "\n",
    "import matplotlib.pyplot as plt"
   ]
  },
  {
   "cell_type": "markdown",
   "metadata": {},
   "source": [
    "### Chargement des données"
   ]
  },
  {
   "cell_type": "code",
   "execution_count": null,
   "metadata": {
    "collapsed": true
   },
   "outputs": [],
   "source": [
    "df = parser.importData(\"Data/Takout/anonymous_2015.json\")"
   ]
  },
  {
   "cell_type": "markdown",
   "metadata": {},
   "source": [
    "<h2 style=\"color:rgb(0,0,150)\"> A. </h2>"
   ]
  },
  {
   "cell_type": "code",
   "execution_count": null,
   "metadata": {
    "collapsed": true
   },
   "outputs": [],
   "source": []
  },
  {
   "cell_type": "markdown",
   "metadata": {},
   "source": [
    "<h1 style=\"color:rgb(150,0,0)\">  III. Conclusion</h1>\n"
   ]
  },
  {
   "cell_type": "markdown",
   "metadata": {},
   "source": [
    "<h2 style=\"color:rgb(0,0,150)\"> A. Bilan</h2>\n"
   ]
  },
  {
   "cell_type": "markdown",
   "metadata": {},
   "source": [
    " \n"
   ]
  },
  {
   "cell_type": "markdown",
   "metadata": {},
   "source": [
    "<h2 style=\"color:rgb(0,0,150)\"> B. Travail à faire de la prochaine séance </h2>\n"
   ]
  },
  {
   "cell_type": "markdown",
   "metadata": {},
   "source": [
    " "
   ]
  }
 ],
 "metadata": {
  "kernelspec": {
   "display_name": "Python 3",
   "language": "python",
   "name": "python3"
  },
  "language_info": {
   "codemirror_mode": {
    "name": "ipython",
    "version": 3
   },
   "file_extension": ".py",
   "mimetype": "text/x-python",
   "name": "python",
   "nbconvert_exporter": "python",
   "pygments_lexer": "ipython3",
   "version": "3.6.3"
  }
 },
 "nbformat": 4,
 "nbformat_minor": 2
}
